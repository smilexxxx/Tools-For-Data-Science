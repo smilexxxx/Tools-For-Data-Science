{
 "cells": [
  {
   "cell_type": "markdown",
   "id": "801407f1-fa32-4e70-8188-2bcaf7e17db5",
   "metadata": {},
   "source": [
    "# Data Science Tools and Ecosystem\n"
   ]
  },
  {
   "cell_type": "markdown",
   "id": "c5f0ec7f-a4df-4e1a-b70b-9977b6a1f02a",
   "metadata": {},
   "source": [
    "Hello, I am Brian. In this notebook, Data Science Tools and Ecosystem are summarized."
   ]
  },
  {
   "cell_type": "markdown",
   "id": "49629af1-9fe2-4385-b70e-f216bcd6a606",
   "metadata": {},
   "source": [
    "Some of the popular languages that Data Scientists use are:\n",
    "\n",
    "1. Python\n",
    "2. R\n",
    "3. JavaScript\n",
    "4. SQL\n",
    "5. Julia\n",
    "6. Scala"
   ]
  },
  {
   "cell_type": "markdown",
   "id": "9cf22787-3e4a-4e22-8452-810e36af63a5",
   "metadata": {},
   "source": [
    "Some of the commonly used libraries used by Data Scientists include:\n",
    "\n",
    "1. Pandas\n",
    "2. Matplotlib\n",
    "3. Keras\n",
    "4. Pytorch\n",
    "5. Tensorflow\n",
    "6. Scikit-Learn\n",
    "7. Caret"
   ]
  },
  {
   "cell_type": "markdown",
   "id": "d877face-c908-456a-9665-700a39f03338",
   "metadata": {},
   "source": [
    "| Data Science Tools|\n",
    "|-------------------|\n",
    "| Jupyter           |\n",
    "| RStudio           | \n",
    "| Apache Spark      | \n",
    "| Tableau           | \n",
    "| KNIME             | \n"
   ]
  },
  {
   "cell_type": "markdown",
   "id": "d1a66413-bdca-40da-8d29-74abeabc3a8f",
   "metadata": {},
   "source": [
    "### Below are a few examples of evaluating arithmetic expressions in Python:\n",
    "\n",
    "1. **Addition**:\n",
    "   a = 5\n",
    "   b = 3\n",
    "   result = a + b   result is 8\n",
    "  \n",
    "2. **Subtraction**\n",
    "   a = 10\n",
    "   b = 4\n",
    "   result = a - b   result is 6\n",
    "   \n",
    "3. **Multiplication**\n",
    "   a = 7\n",
    "   b = 6\n",
    "   result = a * b   result is 42\n",
    "\n",
    "\n"
   ]
  },
  {
   "cell_type": "code",
   "execution_count": 1,
   "id": "3fa5c1a0-af31-41aa-903a-a088412e02e5",
   "metadata": {
    "tags": []
   },
   "outputs": [
    {
     "data": {
      "text/plain": [
       "17"
      ]
     },
     "execution_count": 1,
     "metadata": {},
     "output_type": "execute_result"
    }
   ],
   "source": [
    "# This is a simple arithmetic expression to multiply then add integers\n",
    "result = (3 * 4) + 5\n",
    "result\n"
   ]
  },
  {
   "cell_type": "code",
   "execution_count": 2,
   "id": "66176d8a-fdad-49cd-ad8f-e304b3115e76",
   "metadata": {
    "tags": []
   },
   "outputs": [
    {
     "data": {
      "text/plain": [
       "3.3333333333333335"
      ]
     },
     "execution_count": 2,
     "metadata": {},
     "output_type": "execute_result"
    }
   ],
   "source": [
    "# This will convert 200 minutes to hours by dividing by 60\n",
    "minutes = 200\n",
    "hours = minutes / 60\n",
    "hours\n"
   ]
  },
  {
   "cell_type": "markdown",
   "id": "5256b63c-a050-4348-b3d7-6a9ef20fb2dd",
   "metadata": {},
   "source": [
    "**Objectives:**\n",
    "\n",
    "- List popular languages for Data Science.\n",
    "- Demonstrate how to evaluate arithmetic expressions in Python.\n",
    "- Introduce key data science tools and libraries.\n"
   ]
  },
  {
   "cell_type": "markdown",
   "id": "b1a8116f-e722-49ee-8499-87c7fd4e3089",
   "metadata": {},
   "source": [
    "## Author\n",
    "\n",
    "Brian"
   ]
  }
 ],
 "metadata": {
  "kernelspec": {
   "display_name": "Python 3 (ipykernel)",
   "language": "python",
   "name": "python3"
  },
  "language_info": {
   "codemirror_mode": {
    "name": "ipython",
    "version": 3
   },
   "file_extension": ".py",
   "mimetype": "text/x-python",
   "name": "python",
   "nbconvert_exporter": "python",
   "pygments_lexer": "ipython3",
   "version": "3.12.3"
  }
 },
 "nbformat": 4,
 "nbformat_minor": 5
}
